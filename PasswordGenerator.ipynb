{
  "nbformat": 4,
  "nbformat_minor": 0,
  "metadata": {
    "colab": {
      "provenance": [],
      "authorship_tag": "ABX9TyMct/bvfdL6fIZG3lEreGcZ",
      "include_colab_link": true
    },
    "kernelspec": {
      "name": "python3",
      "display_name": "Python 3"
    },
    "language_info": {
      "name": "python"
    }
  },
  "cells": [
    {
      "cell_type": "markdown",
      "metadata": {
        "id": "view-in-github",
        "colab_type": "text"
      },
      "source": [
        "<a href=\"https://colab.research.google.com/github/Tanushree-233/Python_Task3/blob/main/PasswordGenerator.ipynb\" target=\"_parent\"><img src=\"https://colab.research.google.com/assets/colab-badge.svg\" alt=\"Open In Colab\"/></a>"
      ]
    },
    {
      "cell_type": "code",
      "execution_count": 1,
      "metadata": {
        "colab": {
          "base_uri": "https://localhost:8080/",
          "height": 646
        },
        "id": "3dt1r-jNnKIb",
        "outputId": "c2c7de60-5f41-465c-f59c-39bcffd160e8"
      },
      "outputs": [
        {
          "output_type": "stream",
          "name": "stdout",
          "text": [
            "It looks like you are running Gradio on a hosted a Jupyter notebook. For the Gradio app to work, sharing must be enabled. Automatically setting `share=True` (you can turn this off by setting `share=False` in `launch()` explicitly).\n",
            "\n",
            "Colab notebook detected. To show errors in colab notebook, set debug=True in launch()\n",
            "* Running on public URL: https://8781a9aa16f2b06206.gradio.live\n",
            "\n",
            "This share link expires in 1 week. For free permanent hosting and GPU upgrades, run `gradio deploy` from the terminal in the working directory to deploy to Hugging Face Spaces (https://huggingface.co/spaces)\n"
          ]
        },
        {
          "output_type": "display_data",
          "data": {
            "text/plain": [
              "<IPython.core.display.HTML object>"
            ],
            "text/html": [
              "<div><iframe src=\"https://8781a9aa16f2b06206.gradio.live\" width=\"100%\" height=\"500\" allow=\"autoplay; camera; microphone; clipboard-read; clipboard-write;\" frameborder=\"0\" allowfullscreen></iframe></div>"
            ]
          },
          "metadata": {}
        },
        {
          "output_type": "execute_result",
          "data": {
            "text/plain": []
          },
          "metadata": {},
          "execution_count": 1
        }
      ],
      "source": [
        "\n",
        "!pip install gradio --quiet\n",
        "\n",
        "import gradio as gr\n",
        "import string\n",
        "import random\n",
        "import tempfile\n",
        "\n",
        "# Function to check password strength\n",
        "def password_strength(password):\n",
        "    length = len(password)\n",
        "    has_upper = any(c.isupper() for c in password)\n",
        "    has_lower = any(c.islower() for c in password)\n",
        "    has_digit = any(c.isdigit() for c in password)\n",
        "    has_symbol = any(c in string.punctuation for c in password)\n",
        "    score = sum([has_upper, has_lower, has_digit, has_symbol])\n",
        "\n",
        "    if length < 6 or score <= 1:\n",
        "        return \"Weak\"\n",
        "    elif length >= 10 and score == 4:\n",
        "        return \"Strong\"\n",
        "    else:\n",
        "        return \"Medium\"\n",
        "\n",
        "# Password generation + strength + save to file\n",
        "def generate_passwords(count, length, include_digits, include_symbols, include_upper):\n",
        "    chars = string.ascii_lowercase\n",
        "    if include_upper:\n",
        "        chars += string.ascii_uppercase\n",
        "    if include_digits:\n",
        "        chars += string.digits\n",
        "    if include_symbols:\n",
        "        chars += string.punctuation\n",
        "    if not chars:\n",
        "        return [\"Please select at least one character type!\"], None\n",
        "\n",
        "    passwords = []\n",
        "    for _ in range(count):\n",
        "        pwd = ''.join(random.choice(chars) for _ in range(length))\n",
        "        strength = password_strength(pwd)\n",
        "        passwords.append(f\"{pwd} ({strength})\")\n",
        "\n",
        "    # Save to file\n",
        "    file_path = tempfile.NamedTemporaryFile(delete=False, suffix=\".txt\").name\n",
        "    with open(file_path, \"w\") as f:\n",
        "        for line in passwords:\n",
        "            f.write(line + \"\\n\")\n",
        "\n",
        "    return \"\\n\".join(passwords), file_path\n",
        "\n",
        "# Gradio UI\n",
        "with gr.Blocks(title=\"🔐 Password Generator with Strength Check\") as app:\n",
        "    gr.Markdown(\"## 🔐 Smart Password Generator\\nEasily create secure passwords and download them!\")\n",
        "\n",
        "    with gr.Row():\n",
        "        count = gr.Slider(1, 10, step=1, value=5, label=\"Number of Passwords\")\n",
        "        length = gr.Slider(4, 50, step=1, value=12, label=\"Password Length\")\n",
        "\n",
        "    with gr.Row():\n",
        "        digits = gr.Checkbox(True, label=\"Include Digits (0-9)\")\n",
        "        symbols = gr.Checkbox(True, label=\"Include Symbols (!@#)\")\n",
        "        upper = gr.Checkbox(True, label=\"Include Uppercase (A-Z)\")\n",
        "\n",
        "    gen_btn = gr.Button(\"🔄 Generate Passwords\")\n",
        "    output = gr.Textbox(lines=10, label=\"Generated Passwords\")\n",
        "    download_btn = gr.File(label=\"📥 Download as .txt\")\n",
        "\n",
        "    gen_btn.click(fn=generate_passwords, inputs=[count, length, digits, symbols, upper], outputs=[output, download_btn])\n",
        "\n",
        "app.launch()"
      ]
    }
  ]
}